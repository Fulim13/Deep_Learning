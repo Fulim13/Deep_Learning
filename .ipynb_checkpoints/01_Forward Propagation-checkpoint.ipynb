{
 "cells": [
  {
   "cell_type": "markdown",
   "id": "67c38a36",
   "metadata": {},
   "source": [
    "# Exercise 1:\n",
    "\n",
    "Given weight = `0.1` and number_of_toes = `[8.5, 9.5, 10, 9]`\n",
    "\n",
    "Create a single input output neural network that take the first element of `number_of_toes` as `input` with `weight` to create a prediction `pred`"
   ]
  },
  {
   "cell_type": "code",
   "execution_count": null,
   "id": "d661ea12",
   "metadata": {},
   "outputs": [],
   "source": [
    "weight = 0.1\n",
    "number_of_toes = [8.5, 9.5, 10, 9]"
   ]
  }
 ],
 "metadata": {
  "kernelspec": {
   "display_name": "Python 3 (ipykernel)",
   "language": "python",
   "name": "python3"
  },
  "language_info": {
   "codemirror_mode": {
    "name": "ipython",
    "version": 3
   },
   "file_extension": ".py",
   "mimetype": "text/x-python",
   "name": "python",
   "nbconvert_exporter": "python",
   "pygments_lexer": "ipython3",
   "version": "3.11.5"
  }
 },
 "nbformat": 4,
 "nbformat_minor": 5
}
